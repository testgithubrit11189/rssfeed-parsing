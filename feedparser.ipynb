{
  "nbformat": 4,
  "nbformat_minor": 0,
  "metadata": {
    "colab": {
      "provenance": []
    },
    "kernelspec": {
      "name": "python3",
      "display_name": "Python 3"
    },
    "language_info": {
      "name": "python"
    }
  },
  "cells": [
    {
      "cell_type": "code",
      "execution_count": 4,
      "metadata": {
        "colab": {
          "base_uri": "https://localhost:8080/"
        },
        "id": "7xVx3MBnLzzs",
        "outputId": "014222b9-b4b0-400e-af03-121b2b72b29b"
      },
      "outputs": [
        {
          "output_type": "stream",
          "name": "stdout",
          "text": [
            "Requirement already satisfied: feedparser in /usr/local/lib/python3.11/dist-packages (6.0.11)\n",
            "Requirement already satisfied: pandas in /usr/local/lib/python3.11/dist-packages (2.2.2)\n",
            "Collecting langdetect\n",
            "  Downloading langdetect-1.0.9.tar.gz (981 kB)\n",
            "\u001b[2K     \u001b[90m━━━━━━━━━━━━━━━━━━━━━━━━━━━━━━━━━━━━━━\u001b[0m \u001b[32m981.5/981.5 kB\u001b[0m \u001b[31m17.0 MB/s\u001b[0m eta \u001b[36m0:00:00\u001b[0m\n",
            "\u001b[?25h  Preparing metadata (setup.py) ... \u001b[?25l\u001b[?25hdone\n",
            "Requirement already satisfied: sgmllib3k in /usr/local/lib/python3.11/dist-packages (from feedparser) (1.0.0)\n",
            "Requirement already satisfied: numpy>=1.23.2 in /usr/local/lib/python3.11/dist-packages (from pandas) (2.0.2)\n",
            "Requirement already satisfied: python-dateutil>=2.8.2 in /usr/local/lib/python3.11/dist-packages (from pandas) (2.9.0.post0)\n",
            "Requirement already satisfied: pytz>=2020.1 in /usr/local/lib/python3.11/dist-packages (from pandas) (2025.2)\n",
            "Requirement already satisfied: tzdata>=2022.7 in /usr/local/lib/python3.11/dist-packages (from pandas) (2025.2)\n",
            "Requirement already satisfied: six in /usr/local/lib/python3.11/dist-packages (from langdetect) (1.17.0)\n",
            "Building wheels for collected packages: langdetect\n",
            "  Building wheel for langdetect (setup.py) ... \u001b[?25l\u001b[?25hdone\n",
            "  Created wheel for langdetect: filename=langdetect-1.0.9-py3-none-any.whl size=993223 sha256=100d57dadd11147a402b2d2c02bbd3001060e5ac0fdaaf9d75a348ee396f7a7e\n",
            "  Stored in directory: /root/.cache/pip/wheels/0a/f2/b2/e5ca405801e05eb7c8ed5b3b4bcf1fcabcd6272c167640072e\n",
            "Successfully built langdetect\n",
            "Installing collected packages: langdetect\n",
            "Successfully installed langdetect-1.0.9\n"
          ]
        }
      ],
      "source": [
        "!pip install feedparser pandas langdetect"
      ]
    },
    {
      "cell_type": "code",
      "source": [
        "import feedparser\n",
        "import pandas as pd\n",
        "import langdetect"
      ],
      "metadata": {
        "id": "VJDc4dmnNANy"
      },
      "execution_count": 5,
      "outputs": []
    },
    {
      "cell_type": "code",
      "source": [
        "from langdetect import detect, DetectorFactory\n",
        "DetectorFactory.seed = 0  # ensures consistent results\n",
        "\n",
        "def detect_language(text):\n",
        "    try:\n",
        "        return detect(text)\n",
        "    except:\n",
        "        return \"unknown\"\n"
      ],
      "metadata": {
        "id": "IezX7K7BIbdY"
      },
      "execution_count": 13,
      "outputs": []
    },
    {
      "cell_type": "code",
      "source": [
        "#rss feeds\n",
        "rss_feeds=[\n",
        "    {\"url\": \"http://feeds.bbci.co.uk/news/rss.xml\", \"country\": \"UK\", \"source\": \"BBC\"},\n",
        "    {\"url\": \"http://rss.cnn.com/rss/edition.rss\", \"country\": \"USA\", \"source\": \"CNN\"},\n",
        "    {\"url\": \"https://timesofindia.indiatimes.com/rssfeedstopstories.cms\", \"country\": \"India\", \"source\": \"Times of India\"},\n",
        "    {\"url\": \"https://www3.nhk.or.jp/rss/news/cat0.xml\", \"country\": \"Japan\", \"source\": \"NHK\"},\n",
        "    {\"url\": \"https://www.channelnewsasia.com/rssfeeds/8395986\", \"country\": \"Singapore\", \"source\": \"Channel News Asia\"},\n",
        "    {\"url\": \"https://www.thestar.com.my/rss/news\", \"country\": \"Malaysia\", \"source\": \"The Star\"},\n",
        "    {\"url\": \"http://www.koreaherald.com/rss/01.xml\", \"country\": \"South Korea\", \"source\": \"Korea Herald\"},\n",
        "    {\"url\": \"https://www.antaranews.com/rss/nasional.xml\", \"country\": \"Indonesia\", \"source\": \"Antara News\"},\n",
        "    {\"url\": \"https://www.abc.net.au/news/feed/51120/rss.xml\", \"country\": \"Australia\", \"source\": \"ABC News\"},\n",
        "    {\"url\": \"https://www.cbc.ca/cmlink/rss-topstories\", \"country\": \"Canada\", \"source\": \"CBC\"},\n",
        "    {\"url\": \"https://www.france24.com/en/rss\", \"country\": \"France\", \"source\": \"France24\"},\n",
        "    {\"url\": \"https://rss.dw.com/rdf/rss-en-all\", \"country\": \"Germany\", \"source\": \"DW News\"},\n",
        "    {\"url\": \"https://feeds.folha.uol.com.br/emcimadahora/rss091.xml\", \"country\": \"Brazil\", \"source\": \"Folha de S.Paulo\"},\n",
        "    {\"url\": \"https://www.rt.com/rss/news/\", \"country\": \"Russia\", \"source\": \"RT News\"},\n",
        "    {\"url\": \"https://www.news24.com/rss\", \"country\": \"South Africa\", \"source\": \"News24\"},\n",
        "    {\"url\": \"https://www.eluniversal.com.mx/rss\", \"country\": \"Mexico\", \"source\": \"El Universal\"},\n",
        "    {\"url\": \"https://www.arabnews.com/rss.xml\", \"country\": \"Saudi Arabia\", \"source\": \"Arab News\"},\n",
        "    {\"url\": \"https://www.dailysabah.com/rss/turkey\", \"country\": \"Turkey\", \"source\": \"Daily Sabah\"},\n",
        "    {\"url\": \"https://www.ansa.it/sito/ansait_rss.xml\", \"country\": \"Italy\", \"source\": \"ANSA\"},\n",
        "    {\"url\": \"https://www.egyptindependent.com/feed/\", \"country\": \"Egypt\", \"source\": \"Egypt Independent\"},\n",
        "    {\"url\": \"https://www.jpost.com/Rss/RssFeedsHeadlines.aspx\", \"country\": \"Israel\", \"source\": \"The Jerusalem Post\"},\n",
        "    {\"url\": \"https://www.nzherald.co.nz/rss\", \"country\": \"New Zealand\", \"source\": \"NZ Herald\"},\n",
        "    {\"url\": \"https://www.bangkokpost.com/rss/data/rss1.xml\", \"country\": \"Thailand\", \"source\": \"Bangkok Post\"}\n",
        "]"
      ],
      "metadata": {
        "id": "GEGZIhhjNWAl"
      },
      "execution_count": 7,
      "outputs": []
    },
    {
      "cell_type": "code",
      "source": [
        "import requests"
      ],
      "metadata": {
        "id": "csFKUUb2Yy8i"
      },
      "execution_count": 8,
      "outputs": []
    },
    {
      "cell_type": "code",
      "source": [
        "all_articles=[]\n",
        "\n",
        "for feed in rss_feeds:\n",
        "  try:\n",
        "    response = requests.get(feed[\"url\"], timeout=5)  # Timeout after 5 seconds\n",
        "    parsed = feedparser.parse(response.content)\n",
        "\n",
        "    for entry in parsed.entries:\n",
        "      all_articles.append({\n",
        "        \"title\":entry.get(\"title\",\"\"),\n",
        "        \"link\":entry.get(\"link\",\"\"),\n",
        "        \"published\":entry.get(\"published\",\"\"),\n",
        "        \"country\":feed[\"country\"],\n",
        "        \"source\":feed[\"source\"],\n",
        "        \"summary\":entry.get(\"summary\",\"\")\n",
        "    })\n",
        "\n",
        "  except Exception as e:\n",
        "    print(f\" Skipping {feed['source']} ({feed['country']}): {e}\")\n",
        "    continue\n",
        "\n",
        "  print(f\"Total articles: {len(all_articles)}\")\n",
        "\n",
        "  df = pd.DataFrame(all_articles)"
      ],
      "metadata": {
        "colab": {
          "base_uri": "https://localhost:8080/"
        },
        "id": "TkNZBI3_Oiof",
        "outputId": "286bea1f-7c09-4f72-b37a-d3d9032382b8"
      },
      "execution_count": 20,
      "outputs": [
        {
          "output_type": "stream",
          "name": "stdout",
          "text": [
            "Total articles: 32\n",
            "Total articles: 82\n",
            "Total articles: 128\n",
            "Total articles: 135\n",
            "Total articles: 155\n",
            "Total articles: 165\n",
            "Total articles: 165\n",
            "Total articles: 165\n",
            "Total articles: 165\n",
            " Skipping CBC (Canada): HTTPSConnectionPool(host='www.cbc.ca', port=443): Read timed out. (read timeout=5)\n",
            "Total articles: 165\n",
            "Total articles: 313\n",
            "Total articles: 413\n",
            "Total articles: 513\n",
            "Total articles: 513\n",
            "Total articles: 513\n",
            "Total articles: 513\n",
            "Total articles: 563\n",
            "Total articles: 591\n",
            "Total articles: 601\n",
            "Total articles: 631\n",
            "Total articles: 631\n",
            "Total articles: 631\n"
          ]
        }
      ]
    },
    {
      "cell_type": "code",
      "source": [
        "!pip install langdetect"
      ],
      "metadata": {
        "colab": {
          "base_uri": "https://localhost:8080/"
        },
        "id": "wXUyx2_eH_-i",
        "outputId": "9e4c9489-7a21-49e8-eb1c-0965fc2ccfa2"
      },
      "execution_count": 21,
      "outputs": [
        {
          "output_type": "stream",
          "name": "stdout",
          "text": [
            "Requirement already satisfied: langdetect in /usr/local/lib/python3.11/dist-packages (1.0.9)\n",
            "Requirement already satisfied: six in /usr/local/lib/python3.11/dist-packages (from langdetect) (1.17.0)\n"
          ]
        }
      ]
    },
    {
      "cell_type": "code",
      "source": [
        "#conversion to csv\n",
        "df['Combined_Text'] = df['title'].fillna('') + \" \" + df['summary'].fillna('')\n",
        "df['Language'] = df['Combined_Text'].apply(detect_language)\n",
        "df.drop_duplicates(subset=[\"title\", \"link\"], inplace=True)\n",
        "df.to_csv(\"news_articles.csv\",index=False,encoding=\"utf-8\")\n",
        "\n",
        "print(\"csv created successfully\")"
      ],
      "metadata": {
        "colab": {
          "base_uri": "https://localhost:8080/"
        },
        "id": "zAYXtWiOQOpM",
        "outputId": "1c4e347b-7608-493b-f9e4-600dc744722e"
      },
      "execution_count": 22,
      "outputs": [
        {
          "output_type": "stream",
          "name": "stdout",
          "text": [
            "csv created successfully\n"
          ]
        }
      ]
    },
    {
      "cell_type": "code",
      "source": [
        "grouped = df.groupby('Language')\n",
        "for lang, group in grouped:\n",
        "    print(f\"\\nLanguage: {lang}\")\n",
        "    print(group[['title', 'country', 'link']].head(5))  # Display top 5 headlines\n"
      ],
      "metadata": {
        "colab": {
          "base_uri": "https://localhost:8080/"
        },
        "id": "LTpbM5b2Jakt",
        "outputId": "0878eb50-273a-4291-b915-19b2d5c88854"
      },
      "execution_count": 23,
      "outputs": [
        {
          "output_type": "stream",
          "name": "stdout",
          "text": [
            "\n",
            "Language: en\n",
            "                                               title country  \\\n",
            "0  Israeli strikes across Gaza kill 54, officials...      UK   \n",
            "1  'Situation is dire' - BBC returns to Gaza baby...      UK   \n",
            "2  King Charles is heading to Canada - but it's m...      UK   \n",
            "3  'Time to say goodbye': Lineker's emotional far...      UK   \n",
            "4  AI could already be conscious. Are we ready fo...      UK   \n",
            "\n",
            "                                             link  \n",
            "0  https://www.bbc.com/news/articles/cz9yjj54v3xo  \n",
            "1  https://www.bbc.com/news/articles/c5y2kd1nkleo  \n",
            "2  https://www.bbc.com/news/articles/cgkdnmm8k2no  \n",
            "3  https://www.bbc.com/news/articles/cy0kwkg7deeo  \n",
            "4  https://www.bbc.com/news/articles/c0k3700zljjo  \n",
            "\n",
            "Language: it\n",
            "                                                 title country  \\\n",
            "563  Più si è social addicted e più si crede alle f...   Italy   \n",
            "564  La Palma a Panahi è un caso, Teheran contro la...   Italy   \n",
            "565   Sudafrica, dove il turismo marino è responsabile   Italy   \n",
            "566  Mastronardi, 'in Doppio Gioco sfido a poker Ma...   Italy   \n",
            "567  Casa Pasolini, via ai lavori a Roma per restit...   Italy   \n",
            "\n",
            "                                                  link  \n",
            "563  https://www.ansa.it/canale_lifestyle/notizie/s...  \n",
            "564  https://www.ansa.it/sito/notizie/cultura/cinem...  \n",
            "565  https://www.ansa.it/canale_viaggi/notizie/mond...  \n",
            "566  https://www.ansa.it/sito/notizie/cultura/tv/20...  \n",
            "567  https://www.ansa.it/sito/notizie/cultura/libri...  \n",
            "\n",
            "Language: ja\n",
            "                                title country  \\\n",
            "128  スーパーでのコメの平均価格 5キロ 4285円 前週より値上がり   Japan   \n",
            "129         小泉農相 備蓄米の随意契約での売り渡し 詳細を発表   Japan   \n",
            "130    トランプ大統領 “プーチンのしていること不満 気にくわない”   Japan   \n",
            "131     トランプ大統領  “USスチール買収計画は米によって支配”   Japan   \n",
            "132     沖縄返還で核持ち込み「密約」の若泉敬氏 遺書が沖縄県寄贈へ   Japan   \n",
            "\n",
            "                                                  link  \n",
            "128  http://www3.nhk.or.jp/news/html/20250526/k1001...  \n",
            "129  http://www3.nhk.or.jp/news/html/20250526/k1001...  \n",
            "130  http://www3.nhk.or.jp/news/html/20250526/k1001...  \n",
            "131  http://www3.nhk.or.jp/news/html/20250526/k1001...  \n",
            "132  http://www3.nhk.or.jp/news/html/20250526/k1001...  \n",
            "\n",
            "Language: pt\n",
            "                                                 title country  \\\n",
            "313  Podcast discute lista dos 25 melhores livros b...  Brazil   \n",
            "314  Ataque israelense mata 20 pessoas em escola qu...  Brazil   \n",
            "315  Tarcísio paga R$ 89 milhões em emendas Pix a d...  Brazil   \n",
            "316  Janja vira alvo da oposição nas redes sociais ...  Brazil   \n",
            "317  Exposições da temporada da França no Brasil vã...  Brazil   \n",
            "\n",
            "                                                  link  \n",
            "313  https://redir.folha.com.br/redir/online/emcima...  \n",
            "314  https://redir.folha.com.br/redir/online/emcima...  \n",
            "315  https://redir.folha.com.br/redir/online/emcima...  \n",
            "316  https://redir.folha.com.br/redir/online/emcima...  \n",
            "317  https://redir.folha.com.br/redir/online/emcima...  \n"
          ]
        }
      ]
    },
    {
      "cell_type": "code",
      "source": [
        "for lang, group in grouped:\n",
        "    filename = f\"news_{lang}.csv\"\n",
        "    group.to_csv(filename, index=False, encoding='utf-8')\n"
      ],
      "metadata": {
        "id": "X30TL3nLJ3iG"
      },
      "execution_count": 24,
      "outputs": []
    },
    {
      "cell_type": "code",
      "source": [
        "print(df['Language'].value_counts())"
      ],
      "metadata": {
        "colab": {
          "base_uri": "https://localhost:8080/"
        },
        "id": "Xzgi-pQ5QgoS",
        "outputId": "2a69d5ce-7d41-4f41-dcca-e24808876684"
      },
      "execution_count": 25,
      "outputs": [
        {
          "output_type": "stream",
          "name": "stdout",
          "text": [
            "Language\n",
            "en    496\n",
            "pt    100\n",
            "it     28\n",
            "ja      7\n",
            "Name: count, dtype: int64\n"
          ]
        }
      ]
    },
    {
      "cell_type": "code",
      "source": [
        "from google.colab import files\n",
        "files.download('news_articles.csv')\n"
      ],
      "metadata": {
        "colab": {
          "base_uri": "https://localhost:8080/",
          "height": 17
        },
        "id": "OTNNIxbea375",
        "outputId": "603be3bd-a2a7-4b09-9937-23effc54a06d"
      },
      "execution_count": 26,
      "outputs": [
        {
          "output_type": "display_data",
          "data": {
            "text/plain": [
              "<IPython.core.display.Javascript object>"
            ],
            "application/javascript": [
              "\n",
              "    async function download(id, filename, size) {\n",
              "      if (!google.colab.kernel.accessAllowed) {\n",
              "        return;\n",
              "      }\n",
              "      const div = document.createElement('div');\n",
              "      const label = document.createElement('label');\n",
              "      label.textContent = `Downloading \"${filename}\": `;\n",
              "      div.appendChild(label);\n",
              "      const progress = document.createElement('progress');\n",
              "      progress.max = size;\n",
              "      div.appendChild(progress);\n",
              "      document.body.appendChild(div);\n",
              "\n",
              "      const buffers = [];\n",
              "      let downloaded = 0;\n",
              "\n",
              "      const channel = await google.colab.kernel.comms.open(id);\n",
              "      // Send a message to notify the kernel that we're ready.\n",
              "      channel.send({})\n",
              "\n",
              "      for await (const message of channel.messages) {\n",
              "        // Send a message to notify the kernel that we're ready.\n",
              "        channel.send({})\n",
              "        if (message.buffers) {\n",
              "          for (const buffer of message.buffers) {\n",
              "            buffers.push(buffer);\n",
              "            downloaded += buffer.byteLength;\n",
              "            progress.value = downloaded;\n",
              "          }\n",
              "        }\n",
              "      }\n",
              "      const blob = new Blob(buffers, {type: 'application/binary'});\n",
              "      const a = document.createElement('a');\n",
              "      a.href = window.URL.createObjectURL(blob);\n",
              "      a.download = filename;\n",
              "      div.appendChild(a);\n",
              "      a.click();\n",
              "      div.remove();\n",
              "    }\n",
              "  "
            ]
          },
          "metadata": {}
        },
        {
          "output_type": "display_data",
          "data": {
            "text/plain": [
              "<IPython.core.display.Javascript object>"
            ],
            "application/javascript": [
              "download(\"download_02b6546e-470a-406a-a577-50f381b56f4b\", \"news_articles.csv\", 601738)"
            ]
          },
          "metadata": {}
        }
      ]
    },
    {
      "cell_type": "code",
      "source": [
        "import zipfile\n",
        "import os\n",
        "\n",
        "# Zip all language-specific CSVs\n",
        "with zipfile.ZipFile(\"news_by_language.zip\", \"w\") as zipf:\n",
        "    for lang in df['Language'].unique():\n",
        "        filename = f\"news_{lang}.csv\"\n",
        "        if os.path.exists(filename):\n",
        "            zipf.write(filename)\n",
        "\n",
        "# Download the zip\n",
        "files.download(\"news_by_language.zip\")\n"
      ],
      "metadata": {
        "colab": {
          "base_uri": "https://localhost:8080/",
          "height": 17
        },
        "id": "h6a6nONdQxpF",
        "outputId": "8ecedc22-46f8-4250-eaeb-cc776e8cb0f6"
      },
      "execution_count": 27,
      "outputs": [
        {
          "output_type": "display_data",
          "data": {
            "text/plain": [
              "<IPython.core.display.Javascript object>"
            ],
            "application/javascript": [
              "\n",
              "    async function download(id, filename, size) {\n",
              "      if (!google.colab.kernel.accessAllowed) {\n",
              "        return;\n",
              "      }\n",
              "      const div = document.createElement('div');\n",
              "      const label = document.createElement('label');\n",
              "      label.textContent = `Downloading \"${filename}\": `;\n",
              "      div.appendChild(label);\n",
              "      const progress = document.createElement('progress');\n",
              "      progress.max = size;\n",
              "      div.appendChild(progress);\n",
              "      document.body.appendChild(div);\n",
              "\n",
              "      const buffers = [];\n",
              "      let downloaded = 0;\n",
              "\n",
              "      const channel = await google.colab.kernel.comms.open(id);\n",
              "      // Send a message to notify the kernel that we're ready.\n",
              "      channel.send({})\n",
              "\n",
              "      for await (const message of channel.messages) {\n",
              "        // Send a message to notify the kernel that we're ready.\n",
              "        channel.send({})\n",
              "        if (message.buffers) {\n",
              "          for (const buffer of message.buffers) {\n",
              "            buffers.push(buffer);\n",
              "            downloaded += buffer.byteLength;\n",
              "            progress.value = downloaded;\n",
              "          }\n",
              "        }\n",
              "      }\n",
              "      const blob = new Blob(buffers, {type: 'application/binary'});\n",
              "      const a = document.createElement('a');\n",
              "      a.href = window.URL.createObjectURL(blob);\n",
              "      a.download = filename;\n",
              "      div.appendChild(a);\n",
              "      a.click();\n",
              "      div.remove();\n",
              "    }\n",
              "  "
            ]
          },
          "metadata": {}
        },
        {
          "output_type": "display_data",
          "data": {
            "text/plain": [
              "<IPython.core.display.Javascript object>"
            ],
            "application/javascript": [
              "download(\"download_ae080139-5b12-4b87-a31d-a79d4b7d6190\", \"news_by_language.zip\", 602353)"
            ]
          },
          "metadata": {}
        }
      ]
    },
    {
      "cell_type": "code",
      "source": [
        "# Step 1: Group by country and get total article count\n",
        "country_group = df.groupby('country')\n",
        "\n",
        "summary = []\n",
        "\n",
        "for country, group in country_group:\n",
        "    news_agencies = group['source'].unique().tolist()\n",
        "    total_articles = len(group)\n",
        "\n",
        "    summary.append({\n",
        "        'Country': country,\n",
        "        'News Agency': \", \".join(news_agencies),\n",
        "        'Total articles downloaded': total_articles,\n",
        "        'Total historical data': 'Since 2021'  # update if you have actual dates\n",
        "    })\n",
        "\n",
        "# Step 2: Create summary DataFrame\n",
        "summary_df = pd.DataFrame(summary)\n",
        "\n",
        "# Step 3: Save or display\n",
        "summary_df.to_csv(\"news_summary.csv\", index=False)\n",
        "summary_df\n",
        "\n",
        "files.download(\"news_summary.csv\")\n"
      ],
      "metadata": {
        "colab": {
          "base_uri": "https://localhost:8080/",
          "height": 17
        },
        "id": "r1SNCNlWU6VQ",
        "outputId": "f500007d-69ec-4d52-d162-74bbe9a005ff"
      },
      "execution_count": 28,
      "outputs": [
        {
          "output_type": "display_data",
          "data": {
            "text/plain": [
              "<IPython.core.display.Javascript object>"
            ],
            "application/javascript": [
              "\n",
              "    async function download(id, filename, size) {\n",
              "      if (!google.colab.kernel.accessAllowed) {\n",
              "        return;\n",
              "      }\n",
              "      const div = document.createElement('div');\n",
              "      const label = document.createElement('label');\n",
              "      label.textContent = `Downloading \"${filename}\": `;\n",
              "      div.appendChild(label);\n",
              "      const progress = document.createElement('progress');\n",
              "      progress.max = size;\n",
              "      div.appendChild(progress);\n",
              "      document.body.appendChild(div);\n",
              "\n",
              "      const buffers = [];\n",
              "      let downloaded = 0;\n",
              "\n",
              "      const channel = await google.colab.kernel.comms.open(id);\n",
              "      // Send a message to notify the kernel that we're ready.\n",
              "      channel.send({})\n",
              "\n",
              "      for await (const message of channel.messages) {\n",
              "        // Send a message to notify the kernel that we're ready.\n",
              "        channel.send({})\n",
              "        if (message.buffers) {\n",
              "          for (const buffer of message.buffers) {\n",
              "            buffers.push(buffer);\n",
              "            downloaded += buffer.byteLength;\n",
              "            progress.value = downloaded;\n",
              "          }\n",
              "        }\n",
              "      }\n",
              "      const blob = new Blob(buffers, {type: 'application/binary'});\n",
              "      const a = document.createElement('a');\n",
              "      a.href = window.URL.createObjectURL(blob);\n",
              "      a.download = filename;\n",
              "      div.appendChild(a);\n",
              "      a.click();\n",
              "      div.remove();\n",
              "    }\n",
              "  "
            ]
          },
          "metadata": {}
        },
        {
          "output_type": "display_data",
          "data": {
            "text/plain": [
              "<IPython.core.display.Javascript object>"
            ],
            "application/javascript": [
              "download(\"download_78200d89-ca07-44c5-9222-ebfca967c102\", \"news_summary.csv\", 479)"
            ]
          },
          "metadata": {}
        }
      ]
    }
  ]
}